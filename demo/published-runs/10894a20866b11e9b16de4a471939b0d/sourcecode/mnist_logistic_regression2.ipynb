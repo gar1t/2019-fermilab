{
 "cells": [
  {
   "cell_type": "markdown",
   "metadata": {},
   "source": [
    "# MNIST Logistic Regression\n",
    "\n",
    "https://medium.com/@the1ju/simple-logistic-regression-using-keras-249e0cc9a970"
   ]
  },
  {
   "cell_type": "markdown",
   "metadata": {},
   "source": [
    "## Imports"
   ]
  },
  {
   "cell_type": "code",
   "execution_count": 1,
   "metadata": {},
   "outputs": [
    {
     "name": "stderr",
     "output_type": "stream",
     "text": [
      "Using TensorFlow backend.\n"
     ]
    }
   ],
   "source": [
    "from keras.callbacks import ModelCheckpoint\n",
    "from keras.datasets import mnist\n",
    "from keras.layers import Dense, Activation\n",
    "from keras.models import Sequential\n",
    "from keras.optimizers import SGD\n",
    "from keras.utils import np_utils"
   ]
  },
  {
   "cell_type": "markdown",
   "metadata": {},
   "source": [
    "## Train function"
   ]
  },
  {
   "cell_type": "code",
   "execution_count": 2,
   "metadata": {},
   "outputs": [],
   "source": [
    "def train(batch_size=128, epochs=10, lr=0.01):\n",
    "    # Get the data\n",
    "    (X_train, y_train), (X_test, y_test) = mnist.load_data()\n",
    "    \n",
    "    # Reshape and normalize the inputs\n",
    "    input_dim = 784 # 28 * 28\n",
    "    X_train = X_train.reshape(60000, input_dim)\n",
    "    X_test = X_test.reshape(10000, input_dim)\n",
    "    X_train = X_train.astype('float32')\n",
    "    X_test = X_test.astype('float32')\n",
    "    X_train /= 255\n",
    "    X_test /= 255\n",
    "    \n",
    "    # Convert class vectors to binary class matrices\n",
    "\n",
    "    nb_classes = 10\n",
    "\n",
    "    Y_train = np_utils.to_categorical(y_train, nb_classes)\n",
    "    Y_test = np_utils.to_categorical(y_test, nb_classes)\n",
    "    \n",
    "    # Build the model\n",
    "    \n",
    "    model = Sequential()\n",
    "    model.add(Dense(nb_classes, input_dim=input_dim, activation='softmax'))\n",
    "    model.compile(\n",
    "        optimizer=SGD(lr),\n",
    "        loss='categorical_crossentropy',\n",
    "        metrics=['accuracy'])\n",
    "    \n",
    "    # Checkpoint callback\n",
    "    \n",
    "    checkpoint = ModelCheckpoint('weights.{epoch:02d}-{val_loss:.4f}.hdf5')\n",
    "    \n",
    "    # Train the model\n",
    "    \n",
    "    history = model.fit(\n",
    "        X_train,\n",
    "        Y_train,\n",
    "        batch_size=batch_size,\n",
    "        epochs=epochs,\n",
    "        verbose=1,\n",
    "        validation_data=(X_test, Y_test),\n",
    "        callbacks=[checkpoint])\n",
    "    \n",
    "    # Evaluate the model\n",
    "    \n",
    "    score = model.evaluate(X_test, Y_test, verbose=0)\n",
    "    print('Test score:', score[0])\n",
    "    print('Test accuracy:', score[1])"
   ]
  },
  {
   "cell_type": "markdown",
   "metadata": {},
   "source": [
    "## Train the model"
   ]
  },
  {
   "cell_type": "code",
   "execution_count": 8,
   "metadata": {},
   "outputs": [
    {
     "name": "stdout",
     "output_type": "stream",
     "text": [
      "Train on 60000 samples, validate on 10000 samples\n",
      "Epoch 1/10\n",
      "60000/60000 [==============================] - 1s 12us/step - loss: 0.5785 - acc: 0.8544 - val_loss: 0.3817 - val_acc: 0.8980\n",
      "Epoch 2/10\n",
      "60000/60000 [==============================] - 1s 9us/step - loss: 0.3755 - acc: 0.8967 - val_loss: 0.3376 - val_acc: 0.9057\n",
      "Epoch 3/10\n",
      "60000/60000 [==============================] - 1s 9us/step - loss: 0.3435 - acc: 0.9044 - val_loss: 0.3176 - val_acc: 0.9110\n",
      "Epoch 4/10\n",
      "60000/60000 [==============================] - 1s 9us/step - loss: 0.3268 - acc: 0.9096 - val_loss: 0.3074 - val_acc: 0.9142\n",
      "Epoch 5/10\n",
      "60000/60000 [==============================] - 1s 9us/step - loss: 0.3162 - acc: 0.9120 - val_loss: 0.3000 - val_acc: 0.9170\n",
      "Epoch 6/10\n",
      "60000/60000 [==============================] - 1s 10us/step - loss: 0.3083 - acc: 0.9141 - val_loss: 0.2941 - val_acc: 0.9186\n",
      "Epoch 7/10\n",
      "60000/60000 [==============================] - 1s 9us/step - loss: 0.3025 - acc: 0.9157 - val_loss: 0.2898 - val_acc: 0.9187\n",
      "Epoch 8/10\n",
      "60000/60000 [==============================] - 1s 9us/step - loss: 0.2979 - acc: 0.9171 - val_loss: 0.2872 - val_acc: 0.9205\n",
      "Epoch 9/10\n",
      "60000/60000 [==============================] - 1s 9us/step - loss: 0.2941 - acc: 0.9185 - val_loss: 0.2839 - val_acc: 0.9210\n",
      "Epoch 10/10\n",
      "60000/60000 [==============================] - 1s 9us/step - loss: 0.2908 - acc: 0.9188 - val_loss: 0.2824 - val_acc: 0.9211\n",
      "('Test score:', 0.28241071769595144)\n",
      "('Test accuracy:', 0.9211)\n"
     ]
    }
   ],
   "source": [
    "train(lr=0.1)"
   ]
  },
  {
   "cell_type": "code",
   "execution_count": null,
   "metadata": {},
   "outputs": [],
   "source": []
  }
 ],
 "metadata": {
  "kernelspec": {
   "display_name": "Python 2",
   "language": "python",
   "name": "python2"
  },
  "language_info": {
   "codemirror_mode": {
    "name": "ipython",
    "version": 2
   },
   "file_extension": ".py",
   "mimetype": "text/x-python",
   "name": "python",
   "nbconvert_exporter": "python",
   "pygments_lexer": "ipython2",
   "version": "2.7.12"
  }
 },
 "nbformat": 4,
 "nbformat_minor": 2
}
