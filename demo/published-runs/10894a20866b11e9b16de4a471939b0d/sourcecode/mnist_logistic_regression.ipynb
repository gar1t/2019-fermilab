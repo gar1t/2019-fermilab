{
 "cells": [
  {
   "cell_type": "markdown",
   "metadata": {},
   "source": [
    "# MNIST Logistic Regression\n",
    "\n",
    "https://medium.com/@the1ju/simple-logistic-regression-using-keras-249e0cc9a970"
   ]
  },
  {
   "cell_type": "markdown",
   "metadata": {},
   "source": [
    "## Imports"
   ]
  },
  {
   "cell_type": "code",
   "execution_count": 33,
   "metadata": {},
   "outputs": [],
   "source": [
    "from keras.callbacks import ModelCheckpoint\n",
    "from keras.datasets import mnist\n",
    "from keras.layers import Dense, Activation\n",
    "from keras.models import Sequential\n",
    "from keras.optimizers import SGD\n",
    "from keras.utils import np_utils"
   ]
  },
  {
   "cell_type": "markdown",
   "metadata": {},
   "source": [
    "## Hyperparameters"
   ]
  },
  {
   "cell_type": "code",
   "execution_count": 34,
   "metadata": {},
   "outputs": [],
   "source": [
    "batch_size = 128\n",
    "epochs = 10\n",
    "lr = 0.01"
   ]
  },
  {
   "cell_type": "markdown",
   "metadata": {},
   "source": [
    "## Get the data"
   ]
  },
  {
   "cell_type": "code",
   "execution_count": 35,
   "metadata": {},
   "outputs": [],
   "source": [
    "(X_train, y_train), (X_test, y_test) = mnist.load_data()"
   ]
  },
  {
   "cell_type": "markdown",
   "metadata": {},
   "source": [
    "## Reshape and normalize the inputs"
   ]
  },
  {
   "cell_type": "code",
   "execution_count": 36,
   "metadata": {},
   "outputs": [],
   "source": [
    "input_dim = 784 #28*28\n",
    "X_train = X_train.reshape(60000, input_dim)\n",
    "X_test = X_test.reshape(10000, input_dim)\n",
    "X_train = X_train.astype('float32')\n",
    "X_test = X_test.astype('float32')\n",
    "X_train /= 255\n",
    "X_test /= 255"
   ]
  },
  {
   "cell_type": "markdown",
   "metadata": {},
   "source": [
    "## Convert class vectors to binary class matrices"
   ]
  },
  {
   "cell_type": "code",
   "execution_count": 37,
   "metadata": {},
   "outputs": [],
   "source": [
    "nb_classes = 10\n",
    "\n",
    "Y_train = np_utils.to_categorical(y_train, nb_classes)\n",
    "Y_test = np_utils.to_categorical(y_test, nb_classes)"
   ]
  },
  {
   "cell_type": "markdown",
   "metadata": {},
   "source": [
    "## Build the model"
   ]
  },
  {
   "cell_type": "code",
   "execution_count": 38,
   "metadata": {},
   "outputs": [],
   "source": [
    "model = Sequential()\n",
    "model.add(Dense(nb_classes, input_dim=input_dim, activation='softmax'))\n",
    "model.compile(\n",
    "    optimizer=SGD(lr),\n",
    "    loss='categorical_crossentropy',\n",
    "    metrics=['accuracy'])"
   ]
  },
  {
   "cell_type": "markdown",
   "metadata": {},
   "source": [
    "## Checkpoint callback"
   ]
  },
  {
   "cell_type": "code",
   "execution_count": 39,
   "metadata": {},
   "outputs": [],
   "source": [
    "checkpoint = ModelCheckpoint('weights.{epoch:02d}-{val_loss:.4f}.hdf5')"
   ]
  },
  {
   "cell_type": "markdown",
   "metadata": {},
   "source": [
    "## Train the model"
   ]
  },
  {
   "cell_type": "code",
   "execution_count": 40,
   "metadata": {},
   "outputs": [
    {
     "name": "stdout",
     "output_type": "stream",
     "text": [
      "Train on 60000 samples, validate on 10000 samples\n",
      "Epoch 1/10\n",
      "60000/60000 [==============================] - 1s 11us/step - loss: 1.2948 - acc: 0.6838 - val_loss: 0.8145 - val_acc: 0.8307\n",
      "Epoch 2/10\n",
      "60000/60000 [==============================] - 1s 10us/step - loss: 0.7171 - acc: 0.8401 - val_loss: 0.6080 - val_acc: 0.8620\n",
      "Epoch 3/10\n",
      "60000/60000 [==============================] - 1s 9us/step - loss: 0.5872 - acc: 0.8582 - val_loss: 0.5261 - val_acc: 0.8733\n",
      "Epoch 4/10\n",
      "60000/60000 [==============================] - 1s 9us/step - loss: 0.5254 - acc: 0.8682 - val_loss: 0.4801 - val_acc: 0.8791\n",
      "Epoch 5/10\n",
      "60000/60000 [==============================] - 1s 10us/step - loss: 0.4876 - acc: 0.8746 - val_loss: 0.4502 - val_acc: 0.8835\n",
      "Epoch 6/10\n",
      "60000/60000 [==============================] - 0s 8us/step - loss: 0.4619 - acc: 0.8793 - val_loss: 0.4291 - val_acc: 0.8884\n",
      "Epoch 7/10\n",
      "60000/60000 [==============================] - 1s 9us/step - loss: 0.4427 - acc: 0.8827 - val_loss: 0.4126 - val_acc: 0.8908\n",
      "Epoch 8/10\n",
      "60000/60000 [==============================] - 1s 9us/step - loss: 0.4279 - acc: 0.8856 - val_loss: 0.4000 - val_acc: 0.8937\n",
      "Epoch 9/10\n",
      "60000/60000 [==============================] - 1s 9us/step - loss: 0.4158 - acc: 0.8880 - val_loss: 0.3896 - val_acc: 0.8962\n",
      "Epoch 10/10\n",
      "60000/60000 [==============================] - 1s 9us/step - loss: 0.4058 - acc: 0.8899 - val_loss: 0.3810 - val_acc: 0.8976\n"
     ]
    }
   ],
   "source": [
    "history = model.fit(\n",
    "    X_train,\n",
    "    Y_train,\n",
    "    batch_size=batch_size,\n",
    "    epochs=epochs,\n",
    "    verbose=1,\n",
    "    validation_data=(X_test, Y_test),\n",
    "    callbacks=[checkpoint])"
   ]
  },
  {
   "cell_type": "markdown",
   "metadata": {},
   "source": [
    "## Evaluate the model"
   ]
  },
  {
   "cell_type": "code",
   "execution_count": 9,
   "metadata": {},
   "outputs": [
    {
     "name": "stdout",
     "output_type": "stream",
     "text": [
      "('Test score:', 0.33608072301149367)\n",
      "('Test accuracy:', 0.9092)\n"
     ]
    }
   ],
   "source": [
    "score = model.evaluate(X_test, Y_test, verbose=0)\n",
    "print('Test score:', score[0])\n",
    "print('Test accuracy:', score[1])"
   ]
  }
 ],
 "metadata": {
  "kernelspec": {
   "display_name": "Python 2",
   "language": "python",
   "name": "python2"
  },
  "language_info": {
   "codemirror_mode": {
    "name": "ipython",
    "version": 2
   },
   "file_extension": ".py",
   "mimetype": "text/x-python",
   "name": "python",
   "nbconvert_exporter": "python",
   "pygments_lexer": "ipython2",
   "version": "2.7.12"
  }
 },
 "nbformat": 4,
 "nbformat_minor": 2
}
